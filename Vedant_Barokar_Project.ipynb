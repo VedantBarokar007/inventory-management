{
  "nbformat": 4,
  "nbformat_minor": 0,
  "metadata": {
    "colab": {
      "name": "Vedant Barokar_Project.ipynb",
      "provenance": []
    },
    "kernelspec": {
      "name": "python3",
      "display_name": "Python 3"
    },
    "language_info": {
      "name": "python"
    }
  },
  "cells": [
    {
      "cell_type": "code",
      "metadata": {
        "id": "RT2h3ZgkY65w"
      },
      "source": [
        "import json\n",
        "records={\"1001\": {\"name\": \"Choco Cake\", \"qn\": 34, \"pr\": 100}, \"1002\": {\"name\": \"Milk Cake\", \"pr\": 800, \"qn\": 100}, \"1003\": {\"name\": \"Drink\", \"pr\": 85, \"qn\": 100}, \"1004\": {\"name\": \"Candy\", \"pr\": 5, \"qn\": 1000}, \"1005\": {\"name\": \"Pen\", \"pr\": 20, \"qn\": 100}, \"1006\": {\"name\": \"Phone\", \"pr\": 50000, \"qn\": 10}, \"1007\": {\"name\": \"Mic\", \"pr\": 1500, \"qn\": 0}, \"1008\": {\"name\": \"Case\", \"pr\": 599, \"qn\": 5}, \"1009\": {\"name\": \"Keyboard\", \"pr\": 1999, \"qn\": 10}}\n",
        "rec=json.dumps(records)1010"
      ],
      "execution_count": 4,
      "outputs": []
    },
    {
      "cell_type": "code",
      "metadata": {
        "id": "ABxyXA9GZPs9"
      },
      "source": [
        "fd=open('record.json','w')\n",
        "fd.write(rec)\n",
        "fd.close()"
      ],
      "execution_count": 5,
      "outputs": []
    },
    {
      "cell_type": "code",
      "metadata": {
        "id": "NPuhBe8Na-KF"
      },
      "source": [
        ""
      ],
      "execution_count": null,
      "outputs": []
    },
    {
      "cell_type": "code",
      "metadata": {
        "colab": {
          "base_uri": "https://localhost:8080/"
        },
        "id": "INVGrR-PZaU2",
        "outputId": "99290279-0030-48e9-e0c3-c8d574e726ba"
      },
      "source": [
        "for i in range(21):\n",
        "  prod_id=input('prod_id')\n",
        "  u_name=input('name')\n",
        "  u_qn=int(input('qn'))\n",
        "  u_pr=int(input('pr'))\n",
        "  records[prod_id]={'name':u_name,'qn':u_qn,'pr':u_pr} "
      ],
      "execution_count": 12,
      "outputs": [
        {
          "name": "stdout",
          "output_type": "stream",
          "text": [
            "prod_id1010\n",
            "namemaggie\n",
            "qn2\n",
            "pr20\n",
            "prod_id1011\n",
            "nameyippie\n",
            "qn2\n",
            "pr20\n",
            "prod_id1012\n",
            "name5 star\n",
            "qn1\n",
            "pr10\n",
            "prod_id1013\n",
            "namevithoba dant manjan\n",
            "qn2\n",
            "pr30\n",
            "prod_id1014\n",
            "namehair oil\n",
            "qn2\n",
            "pr40\n",
            "prod_id1015\n",
            "namelays chips\n",
            "qn2\n",
            "pr20\n",
            "prod_id1016\n",
            "namecamera\n",
            "qn1\n",
            "pr800\n",
            "prod_id1017\n",
            "namecopy\n",
            "qn4\n",
            "pr40\n",
            "prod_id1018\n",
            "namecar\n",
            "qn1\n",
            "pr500000\n",
            "prod_id1019\n",
            "namenotebook\n",
            "qn2\n",
            "pr50\n",
            "prod_id1020\n",
            "nameveggies\n",
            "qn3\n",
            "pr300\n",
            "prod_id1021\n",
            "nametrimax\n",
            "qn4\n",
            "pr40\n",
            "prod_id1022\n",
            "namemask\n",
            "qn3\n",
            "pr30\n",
            "prod_id1023\n",
            "namependrive\n",
            "qn2\n",
            "pr1000\n",
            "prod_id1024\n",
            "namedvd\n",
            "qn1\n",
            "pr5\n",
            "prod_id1025\n",
            "namevideo game\n",
            "qn2\n",
            "pr40\n",
            "prod_id1026\n",
            "namechair\n",
            "qn1\n",
            "pr550\n",
            "prod_id1027\n",
            "nametissue paper\n",
            "qn1\n",
            "pr5\n",
            "prod_id1028\n",
            "namecap\n",
            "qn1\n",
            "pr40\n",
            "prod_id1029\n",
            "namecell\n",
            "qn1\n",
            "pr30\n",
            "prod_id1030\n",
            "namemagnet\n",
            "qn1\n",
            "pr30\n"
          ]
        }
      ]
    },
    {
      "cell_type": "code",
      "metadata": {
        "colab": {
          "base_uri": "https://localhost:8080/"
        },
        "id": "G0EQO3D5fsPW",
        "outputId": "87bbe3b1-fb7b-481f-c381-6c9474971354"
      },
      "source": [
        "print(records)\n"
      ],
      "execution_count": 13,
      "outputs": [
        {
          "output_type": "stream",
          "name": "stdout",
          "text": [
            "{'1001': {'name': 'Choco Cake', 'qn': 34, 'pr': 100}, '1002': {'name': 'Milk Cake', 'pr': 800, 'qn': 100}, '1003': {'name': 'Drink', 'pr': 85, 'qn': 100}, '1004': {'name': 'Candy', 'pr': 5, 'qn': 1000}, '1005': {'name': 'Pen', 'pr': 20, 'qn': 100}, '1006': {'name': 'Phone', 'pr': 50000, 'qn': 10}, '1007': {'name': 'Mic', 'pr': 1500, 'qn': 0}, '1008': {'name': 'Case', 'pr': 599, 'qn': 5}, '1009': {'name': 'Keyboard', 'pr': 1999, 'qn': 10}, 'id1010': {'name': 'shaving cream', 'qn': 7, 'pr': 30}, '1011': {'name': 'yippie', 'qn': 2, 'pr': 20}, '1012': {'name': '5 star', 'qn': 1, 'pr': 10}, '1013': {'name': 'vithoba dant manjan', 'qn': 2, 'pr': 30}, '1014': {'name': 'hair oil', 'qn': 2, 'pr': 40}, '1015': {'name': 'lays chips', 'qn': 2, 'pr': 20}, '1010': {'name': 'maggie', 'qn': 2, 'pr': 20}, '1016': {'name': 'camera', 'qn': 1, 'pr': 800}, '1017': {'name': 'copy', 'qn': 4, 'pr': 40}, '1018': {'name': 'car', 'qn': 1, 'pr': 500000}, '1019': {'name': 'notebook', 'qn': 2, 'pr': 50}, '1020': {'name': 'veggies', 'qn': 3, 'pr': 300}, '1021': {'name': 'trimax', 'qn': 4, 'pr': 40}, '1022': {'name': 'mask', 'qn': 3, 'pr': 30}, '1023': {'name': 'pendrive', 'qn': 2, 'pr': 1000}, '1024': {'name': 'dvd', 'qn': 1, 'pr': 5}, '1025': {'name': 'video game', 'qn': 2, 'pr': 40}, '1026': {'name': 'chair', 'qn': 1, 'pr': 550}, '1027': {'name': 'tissue paper', 'qn': 1, 'pr': 5}, '1028': {'name': 'cap', 'qn': 1, 'pr': 40}, '1029': {'name': 'cell', 'qn': 1, 'pr': 30}, '1030': {'name': 'magnet', 'qn': 1, 'pr': 30}}\n"
          ]
        }
      ]
    },
    {
      "cell_type": "code",
      "metadata": {
        "id": "7xD9kc4ifzvM"
      },
      "source": [
        "a=json.dumps(records)"
      ],
      "execution_count": 15,
      "outputs": []
    },
    {
      "cell_type": "code",
      "metadata": {
        "id": "DDyiJRTdgMoF"
      },
      "source": [
        "fd=open('record.json','w')\n",
        "fd.write(a)\n",
        "fd.close()"
      ],
      "execution_count": 16,
      "outputs": []
    },
    {
      "cell_type": "markdown",
      "metadata": {
        "id": "qc7US1GvmBkj"
      },
      "source": [
        "## Purchase"
      ]
    },
    {
      "cell_type": "code",
      "metadata": {
        "colab": {
          "base_uri": "https://localhost:8080/"
        },
        "id": "MaFmbTWMgs1D",
        "outputId": "cda5290e-1847-4f45-f736-f40e5af152f6"
      },
      "source": [
        "for i in range(3):\n",
        "   ui_prod=input('prod_id')\n",
        "   ui_quant=int(input('qn'))\n",
        "   records[ui_prod] ['qn']=records[ui_prod] ['qn']-ui_quant"
      ],
      "execution_count": 21,
      "outputs": [
        {
          "name": "stdout",
          "output_type": "stream",
          "text": [
            "prod_id1021\n",
            "qn2\n",
            "prod_id1022\n",
            "qn1\n",
            "prod_id1005\n",
            "qn10\n"
          ]
        }
      ]
    },
    {
      "cell_type": "code",
      "metadata": {
        "colab": {
          "base_uri": "https://localhost:8080/"
        },
        "id": "8QJwArCLmwfD",
        "outputId": "0cbab827-719e-4ed5-8248-83c707ac9bd9"
      },
      "source": [
        "print(records)"
      ],
      "execution_count": 22,
      "outputs": [
        {
          "output_type": "stream",
          "name": "stdout",
          "text": [
            "{'1001': {'name': 'Choco Cake', 'qn': 34, 'pr': 100}, '1002': {'name': 'Milk Cake', 'pr': 800, 'qn': 100}, '1003': {'name': 'Drink', 'pr': 85, 'qn': 100}, '1004': {'name': 'Candy', 'pr': 5, 'qn': 1000}, '1005': {'name': 'Pen', 'pr': 20, 'qn': 90}, '1006': {'name': 'Phone', 'pr': 50000, 'qn': 10}, '1007': {'name': 'Mic', 'pr': 1500, 'qn': 0}, '1008': {'name': 'Case', 'pr': 599, 'qn': 5}, '1009': {'name': 'Keyboard', 'pr': 1999, 'qn': 10}, 'id1010': {'name': 'shaving cream', 'qn': 7, 'pr': 30}, '1011': {'name': 'yippie', 'qn': 2, 'pr': 20}, '1012': {'name': '5 star', 'qn': 1, 'pr': 10}, '1013': {'name': 'vithoba dant manjan', 'qn': 2, 'pr': 30}, '1014': {'name': 'hair oil', 'qn': 2, 'pr': 40}, '1015': {'name': 'lays chips', 'qn': 2, 'pr': 20}, '1010': {'name': 'maggie', 'qn': 2, 'pr': 20}, '1016': {'name': 'camera', 'qn': 1, 'pr': 800}, '1017': {'name': 'copy', 'qn': 4, 'pr': 40}, '1018': {'name': 'car', 'qn': 1, 'pr': 500000}, '1019': {'name': 'notebook', 'qn': 2, 'pr': 50}, '1020': {'name': 'veggies', 'qn': 3, 'pr': 300}, '1021': {'name': 'trimax', 'qn': 0, 'pr': 40}, '1022': {'name': 'mask', 'qn': 2, 'pr': 30}, '1023': {'name': 'pendrive', 'qn': 2, 'pr': 1000}, '1024': {'name': 'dvd', 'qn': 1, 'pr': 5}, '1025': {'name': 'video game', 'qn': 2, 'pr': 40}, '1026': {'name': 'chair', 'qn': 1, 'pr': 550}, '1027': {'name': 'tissue paper', 'qn': 1, 'pr': 5}, '1028': {'name': 'cap', 'qn': 1, 'pr': 40}, '1029': {'name': 'cell', 'qn': 1, 'pr': 30}, '1030': {'name': 'magnet', 'qn': 1, 'pr': 30}}\n"
          ]
        }
      ]
    },
    {
      "cell_type": "code",
      "metadata": {
        "id": "JVW5BJbTosLB"
      },
      "source": [
        "a=json.dumps(records)\n",
        "fd=open('record.json','w')\n",
        "fd.write(a)\n",
        "fd.close()"
      ],
      "execution_count": 26,
      "outputs": []
    }
  ]
}